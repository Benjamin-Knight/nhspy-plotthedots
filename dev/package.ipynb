{
 "cells": [
  {
   "attachments": {},
   "cell_type": "markdown",
   "metadata": {},
   "source": [
    "# nhspy-plotthedots"
   ]
  },
  {
   "cell_type": "code",
   "execution_count": 1,
   "metadata": {},
   "outputs": [
    {
     "name": "stdout",
     "output_type": "stream",
     "text": [
      "Looking in indexes: https://test.pypi.org/simple/\n",
      "Requirement already satisfied: nhspy-plotthedots-test in /opt/homebrew/lib/python3.10/site-packages (0.1.6)\n",
      "Note: you may need to restart the kernel to use updated packages.\n"
     ]
    }
   ],
   "source": [
    "%pip install --index-url https://test.pypi.org/simple/ --no-deps nhspy-plotthedots-test\n",
    "\n",
    "import pandas as pd"
   ]
  },
  {
   "cell_type": "code",
   "execution_count": 2,
   "metadata": {},
   "outputs": [
    {
     "data": {
      "text/html": [
       "<div>\n",
       "<style scoped>\n",
       "    .dataframe tbody tr th:only-of-type {\n",
       "        vertical-align: middle;\n",
       "    }\n",
       "\n",
       "    .dataframe tbody tr th {\n",
       "        vertical-align: top;\n",
       "    }\n",
       "\n",
       "    .dataframe thead th {\n",
       "        text-align: right;\n",
       "    }\n",
       "</style>\n",
       "<table border=\"1\" class=\"dataframe\">\n",
       "  <thead>\n",
       "    <tr style=\"text-align: right;\">\n",
       "      <th></th>\n",
       "      <th>period</th>\n",
       "      <th>org_code</th>\n",
       "      <th>type</th>\n",
       "      <th>attendances</th>\n",
       "      <th>breaches</th>\n",
       "      <th>admissions</th>\n",
       "    </tr>\n",
       "  </thead>\n",
       "  <tbody>\n",
       "    <tr>\n",
       "      <th>0</th>\n",
       "      <td>2016-04-01</td>\n",
       "      <td>RQM</td>\n",
       "      <td>1</td>\n",
       "      <td>15154</td>\n",
       "      <td>1199</td>\n",
       "      <td>3415</td>\n",
       "    </tr>\n",
       "    <tr>\n",
       "      <th>1</th>\n",
       "      <td>2016-05-01</td>\n",
       "      <td>RQM</td>\n",
       "      <td>1</td>\n",
       "      <td>16705</td>\n",
       "      <td>929</td>\n",
       "      <td>3590</td>\n",
       "    </tr>\n",
       "    <tr>\n",
       "      <th>2</th>\n",
       "      <td>2016-06-01</td>\n",
       "      <td>RQM</td>\n",
       "      <td>1</td>\n",
       "      <td>16021</td>\n",
       "      <td>970</td>\n",
       "      <td>3398</td>\n",
       "    </tr>\n",
       "    <tr>\n",
       "      <th>3</th>\n",
       "      <td>2016-07-01</td>\n",
       "      <td>RQM</td>\n",
       "      <td>1</td>\n",
       "      <td>16761</td>\n",
       "      <td>1178</td>\n",
       "      <td>3321</td>\n",
       "    </tr>\n",
       "    <tr>\n",
       "      <th>4</th>\n",
       "      <td>2016-08-01</td>\n",
       "      <td>RQM</td>\n",
       "      <td>1</td>\n",
       "      <td>15084</td>\n",
       "      <td>1110</td>\n",
       "      <td>3198</td>\n",
       "    </tr>\n",
       "    <tr>\n",
       "      <th>5</th>\n",
       "      <td>2016-09-01</td>\n",
       "      <td>RQM</td>\n",
       "      <td>1</td>\n",
       "      <td>15918</td>\n",
       "      <td>1388</td>\n",
       "      <td>3260</td>\n",
       "    </tr>\n",
       "    <tr>\n",
       "      <th>6</th>\n",
       "      <td>2016-10-01</td>\n",
       "      <td>RQM</td>\n",
       "      <td>1</td>\n",
       "      <td>16564</td>\n",
       "      <td>2061</td>\n",
       "      <td>3563</td>\n",
       "    </tr>\n",
       "    <tr>\n",
       "      <th>7</th>\n",
       "      <td>2016-11-01</td>\n",
       "      <td>RQM</td>\n",
       "      <td>1</td>\n",
       "      <td>16478</td>\n",
       "      <td>1985</td>\n",
       "      <td>3399</td>\n",
       "    </tr>\n",
       "    <tr>\n",
       "      <th>8</th>\n",
       "      <td>2016-12-01</td>\n",
       "      <td>RQM</td>\n",
       "      <td>1</td>\n",
       "      <td>16931</td>\n",
       "      <td>2675</td>\n",
       "      <td>3671</td>\n",
       "    </tr>\n",
       "    <tr>\n",
       "      <th>9</th>\n",
       "      <td>2017-01-01</td>\n",
       "      <td>RQM</td>\n",
       "      <td>1</td>\n",
       "      <td>16920</td>\n",
       "      <td>3141</td>\n",
       "      <td>3339</td>\n",
       "    </tr>\n",
       "    <tr>\n",
       "      <th>10</th>\n",
       "      <td>2017-02-01</td>\n",
       "      <td>RQM</td>\n",
       "      <td>1</td>\n",
       "      <td>14482</td>\n",
       "      <td>1942</td>\n",
       "      <td>3188</td>\n",
       "    </tr>\n",
       "    <tr>\n",
       "      <th>11</th>\n",
       "      <td>2017-03-01</td>\n",
       "      <td>RQM</td>\n",
       "      <td>1</td>\n",
       "      <td>17414</td>\n",
       "      <td>2030</td>\n",
       "      <td>3597</td>\n",
       "    </tr>\n",
       "    <tr>\n",
       "      <th>12</th>\n",
       "      <td>2017-04-01</td>\n",
       "      <td>RQM</td>\n",
       "      <td>1</td>\n",
       "      <td>15957</td>\n",
       "      <td>1309</td>\n",
       "      <td>3375</td>\n",
       "    </tr>\n",
       "    <tr>\n",
       "      <th>13</th>\n",
       "      <td>2017-05-01</td>\n",
       "      <td>RQM</td>\n",
       "      <td>1</td>\n",
       "      <td>17871</td>\n",
       "      <td>1960</td>\n",
       "      <td>3825</td>\n",
       "    </tr>\n",
       "    <tr>\n",
       "      <th>14</th>\n",
       "      <td>2017-06-01</td>\n",
       "      <td>RQM</td>\n",
       "      <td>1</td>\n",
       "      <td>16675</td>\n",
       "      <td>1169</td>\n",
       "      <td>3542</td>\n",
       "    </tr>\n",
       "    <tr>\n",
       "      <th>15</th>\n",
       "      <td>2017-07-01</td>\n",
       "      <td>RQM</td>\n",
       "      <td>1</td>\n",
       "      <td>17265</td>\n",
       "      <td>1117</td>\n",
       "      <td>3610</td>\n",
       "    </tr>\n",
       "    <tr>\n",
       "      <th>16</th>\n",
       "      <td>2017-08-01</td>\n",
       "      <td>RQM</td>\n",
       "      <td>1</td>\n",
       "      <td>15872</td>\n",
       "      <td>1085</td>\n",
       "      <td>3529</td>\n",
       "    </tr>\n",
       "    <tr>\n",
       "      <th>17</th>\n",
       "      <td>2017-09-01</td>\n",
       "      <td>RQM</td>\n",
       "      <td>1</td>\n",
       "      <td>16776</td>\n",
       "      <td>1492</td>\n",
       "      <td>3680</td>\n",
       "    </tr>\n",
       "    <tr>\n",
       "      <th>18</th>\n",
       "      <td>2017-10-01</td>\n",
       "      <td>RQM</td>\n",
       "      <td>1</td>\n",
       "      <td>18024</td>\n",
       "      <td>1280</td>\n",
       "      <td>3829</td>\n",
       "    </tr>\n",
       "    <tr>\n",
       "      <th>19</th>\n",
       "      <td>2017-11-01</td>\n",
       "      <td>RQM</td>\n",
       "      <td>1</td>\n",
       "      <td>17891</td>\n",
       "      <td>1197</td>\n",
       "      <td>3618</td>\n",
       "    </tr>\n",
       "    <tr>\n",
       "      <th>20</th>\n",
       "      <td>2017-12-01</td>\n",
       "      <td>RQM</td>\n",
       "      <td>1</td>\n",
       "      <td>17695</td>\n",
       "      <td>1569</td>\n",
       "      <td>3729</td>\n",
       "    </tr>\n",
       "    <tr>\n",
       "      <th>21</th>\n",
       "      <td>2018-01-01</td>\n",
       "      <td>RQM</td>\n",
       "      <td>1</td>\n",
       "      <td>17990</td>\n",
       "      <td>1406</td>\n",
       "      <td>3893</td>\n",
       "    </tr>\n",
       "    <tr>\n",
       "      <th>22</th>\n",
       "      <td>2018-02-01</td>\n",
       "      <td>RQM</td>\n",
       "      <td>1</td>\n",
       "      <td>16205</td>\n",
       "      <td>1328</td>\n",
       "      <td>3436</td>\n",
       "    </tr>\n",
       "    <tr>\n",
       "      <th>23</th>\n",
       "      <td>2018-03-01</td>\n",
       "      <td>RQM</td>\n",
       "      <td>1</td>\n",
       "      <td>18906</td>\n",
       "      <td>1564</td>\n",
       "      <td>3899</td>\n",
       "    </tr>\n",
       "  </tbody>\n",
       "</table>\n",
       "</div>"
      ],
      "text/plain": [
       "       period org_code type  attendances  breaches  admissions\n",
       "0  2016-04-01      RQM    1        15154      1199        3415\n",
       "1  2016-05-01      RQM    1        16705       929        3590\n",
       "2  2016-06-01      RQM    1        16021       970        3398\n",
       "3  2016-07-01      RQM    1        16761      1178        3321\n",
       "4  2016-08-01      RQM    1        15084      1110        3198\n",
       "5  2016-09-01      RQM    1        15918      1388        3260\n",
       "6  2016-10-01      RQM    1        16564      2061        3563\n",
       "7  2016-11-01      RQM    1        16478      1985        3399\n",
       "8  2016-12-01      RQM    1        16931      2675        3671\n",
       "9  2017-01-01      RQM    1        16920      3141        3339\n",
       "10 2017-02-01      RQM    1        14482      1942        3188\n",
       "11 2017-03-01      RQM    1        17414      2030        3597\n",
       "12 2017-04-01      RQM    1        15957      1309        3375\n",
       "13 2017-05-01      RQM    1        17871      1960        3825\n",
       "14 2017-06-01      RQM    1        16675      1169        3542\n",
       "15 2017-07-01      RQM    1        17265      1117        3610\n",
       "16 2017-08-01      RQM    1        15872      1085        3529\n",
       "17 2017-09-01      RQM    1        16776      1492        3680\n",
       "18 2017-10-01      RQM    1        18024      1280        3829\n",
       "19 2017-11-01      RQM    1        17891      1197        3618\n",
       "20 2017-12-01      RQM    1        17695      1569        3729\n",
       "21 2018-01-01      RQM    1        17990      1406        3893\n",
       "22 2018-02-01      RQM    1        16205      1328        3436\n",
       "23 2018-03-01      RQM    1        18906      1564        3899"
      ]
     },
     "execution_count": 2,
     "metadata": {},
     "output_type": "execute_result"
    }
   ],
   "source": [
    "# File path of the CSV file\n",
    "file_path = '.././nhspy_plotthedots/data/ae_attendances.csv'\n",
    "\n",
    "# Read the CSV file and store it in a DataFrame\n",
    "df = pd.read_csv(file_path)\n",
    "\n",
    "df\n",
    "\n",
    "from datetime import datetime\n",
    "\n",
    "# Convert 'period' column to datetime format\n",
    "df['period'] = pd.to_datetime(df['period'])\n",
    "\n",
    "# Create a subset of the DataFrame based on certain conditions\n",
    "sub_set = df[(df['org_code'] == \"RQM\") & (df['type'] == \"1\") & (df['period'] < datetime(2018, 4, 1))]\n",
    "sub_set = sub_set.sort_values(by='period').reset_index(drop=True)\n",
    "\n",
    "sub_set"
   ]
  },
  {
   "cell_type": "code",
   "execution_count": 3,
   "metadata": {},
   "outputs": [
    {
     "data": {
      "text/html": [
       "<div>\n",
       "<style scoped>\n",
       "    .dataframe tbody tr th:only-of-type {\n",
       "        vertical-align: middle;\n",
       "    }\n",
       "\n",
       "    .dataframe tbody tr th {\n",
       "        vertical-align: top;\n",
       "    }\n",
       "\n",
       "    .dataframe thead th {\n",
       "        text-align: right;\n",
       "    }\n",
       "</style>\n",
       "<table border=\"1\" class=\"dataframe\">\n",
       "  <thead>\n",
       "    <tr style=\"text-align: right;\">\n",
       "      <th></th>\n",
       "      <th>period</th>\n",
       "      <th>org_code</th>\n",
       "      <th>type</th>\n",
       "      <th>attendances</th>\n",
       "      <th>breaches</th>\n",
       "      <th>admissions</th>\n",
       "      <th>mean</th>\n",
       "      <th>lpl</th>\n",
       "      <th>upl</th>\n",
       "      <th>outside_limits</th>\n",
       "      <th>relative_to_mean</th>\n",
       "      <th>close_to_limits</th>\n",
       "      <th>special_cause_flag</th>\n",
       "    </tr>\n",
       "  </thead>\n",
       "  <tbody>\n",
       "    <tr>\n",
       "      <th>0</th>\n",
       "      <td>2016-04-01</td>\n",
       "      <td>RQM</td>\n",
       "      <td>1</td>\n",
       "      <td>15154</td>\n",
       "      <td>1199</td>\n",
       "      <td>3415</td>\n",
       "      <td>1545.166667</td>\n",
       "      <td>740.395758</td>\n",
       "      <td>2349.937576</td>\n",
       "      <td>False</td>\n",
       "      <td>-1.0</td>\n",
       "      <td>False</td>\n",
       "      <td>False</td>\n",
       "    </tr>\n",
       "    <tr>\n",
       "      <th>1</th>\n",
       "      <td>2016-05-01</td>\n",
       "      <td>RQM</td>\n",
       "      <td>1</td>\n",
       "      <td>16705</td>\n",
       "      <td>929</td>\n",
       "      <td>3590</td>\n",
       "      <td>1545.166667</td>\n",
       "      <td>740.395758</td>\n",
       "      <td>2349.937576</td>\n",
       "      <td>False</td>\n",
       "      <td>-1.0</td>\n",
       "      <td>True</td>\n",
       "      <td>True</td>\n",
       "    </tr>\n",
       "    <tr>\n",
       "      <th>2</th>\n",
       "      <td>2016-06-01</td>\n",
       "      <td>RQM</td>\n",
       "      <td>1</td>\n",
       "      <td>16021</td>\n",
       "      <td>970</td>\n",
       "      <td>3398</td>\n",
       "      <td>1545.166667</td>\n",
       "      <td>740.395758</td>\n",
       "      <td>2349.937576</td>\n",
       "      <td>False</td>\n",
       "      <td>-1.0</td>\n",
       "      <td>True</td>\n",
       "      <td>True</td>\n",
       "    </tr>\n",
       "    <tr>\n",
       "      <th>3</th>\n",
       "      <td>2016-07-01</td>\n",
       "      <td>RQM</td>\n",
       "      <td>1</td>\n",
       "      <td>16761</td>\n",
       "      <td>1178</td>\n",
       "      <td>3321</td>\n",
       "      <td>1545.166667</td>\n",
       "      <td>740.395758</td>\n",
       "      <td>2349.937576</td>\n",
       "      <td>False</td>\n",
       "      <td>-1.0</td>\n",
       "      <td>False</td>\n",
       "      <td>False</td>\n",
       "    </tr>\n",
       "    <tr>\n",
       "      <th>4</th>\n",
       "      <td>2016-08-01</td>\n",
       "      <td>RQM</td>\n",
       "      <td>1</td>\n",
       "      <td>15084</td>\n",
       "      <td>1110</td>\n",
       "      <td>3198</td>\n",
       "      <td>1545.166667</td>\n",
       "      <td>740.395758</td>\n",
       "      <td>2349.937576</td>\n",
       "      <td>False</td>\n",
       "      <td>-1.0</td>\n",
       "      <td>False</td>\n",
       "      <td>False</td>\n",
       "    </tr>\n",
       "    <tr>\n",
       "      <th>5</th>\n",
       "      <td>2016-09-01</td>\n",
       "      <td>RQM</td>\n",
       "      <td>1</td>\n",
       "      <td>15918</td>\n",
       "      <td>1388</td>\n",
       "      <td>3260</td>\n",
       "      <td>1545.166667</td>\n",
       "      <td>740.395758</td>\n",
       "      <td>2349.937576</td>\n",
       "      <td>False</td>\n",
       "      <td>-1.0</td>\n",
       "      <td>False</td>\n",
       "      <td>False</td>\n",
       "    </tr>\n",
       "    <tr>\n",
       "      <th>6</th>\n",
       "      <td>2016-10-01</td>\n",
       "      <td>RQM</td>\n",
       "      <td>1</td>\n",
       "      <td>16564</td>\n",
       "      <td>2061</td>\n",
       "      <td>3563</td>\n",
       "      <td>1545.166667</td>\n",
       "      <td>740.395758</td>\n",
       "      <td>2349.937576</td>\n",
       "      <td>False</td>\n",
       "      <td>1.0</td>\n",
       "      <td>False</td>\n",
       "      <td>False</td>\n",
       "    </tr>\n",
       "    <tr>\n",
       "      <th>7</th>\n",
       "      <td>2016-11-01</td>\n",
       "      <td>RQM</td>\n",
       "      <td>1</td>\n",
       "      <td>16478</td>\n",
       "      <td>1985</td>\n",
       "      <td>3399</td>\n",
       "      <td>1545.166667</td>\n",
       "      <td>740.395758</td>\n",
       "      <td>2349.937576</td>\n",
       "      <td>False</td>\n",
       "      <td>1.0</td>\n",
       "      <td>False</td>\n",
       "      <td>False</td>\n",
       "    </tr>\n",
       "    <tr>\n",
       "      <th>8</th>\n",
       "      <td>2016-12-01</td>\n",
       "      <td>RQM</td>\n",
       "      <td>1</td>\n",
       "      <td>16931</td>\n",
       "      <td>2675</td>\n",
       "      <td>3671</td>\n",
       "      <td>1545.166667</td>\n",
       "      <td>740.395758</td>\n",
       "      <td>2349.937576</td>\n",
       "      <td>True</td>\n",
       "      <td>1.0</td>\n",
       "      <td>False</td>\n",
       "      <td>True</td>\n",
       "    </tr>\n",
       "    <tr>\n",
       "      <th>9</th>\n",
       "      <td>2017-01-01</td>\n",
       "      <td>RQM</td>\n",
       "      <td>1</td>\n",
       "      <td>16920</td>\n",
       "      <td>3141</td>\n",
       "      <td>3339</td>\n",
       "      <td>1545.166667</td>\n",
       "      <td>740.395758</td>\n",
       "      <td>2349.937576</td>\n",
       "      <td>True</td>\n",
       "      <td>1.0</td>\n",
       "      <td>False</td>\n",
       "      <td>True</td>\n",
       "    </tr>\n",
       "    <tr>\n",
       "      <th>10</th>\n",
       "      <td>2017-02-01</td>\n",
       "      <td>RQM</td>\n",
       "      <td>1</td>\n",
       "      <td>14482</td>\n",
       "      <td>1942</td>\n",
       "      <td>3188</td>\n",
       "      <td>1545.166667</td>\n",
       "      <td>740.395758</td>\n",
       "      <td>2349.937576</td>\n",
       "      <td>False</td>\n",
       "      <td>1.0</td>\n",
       "      <td>False</td>\n",
       "      <td>False</td>\n",
       "    </tr>\n",
       "    <tr>\n",
       "      <th>11</th>\n",
       "      <td>2017-03-01</td>\n",
       "      <td>RQM</td>\n",
       "      <td>1</td>\n",
       "      <td>17414</td>\n",
       "      <td>2030</td>\n",
       "      <td>3597</td>\n",
       "      <td>1545.166667</td>\n",
       "      <td>740.395758</td>\n",
       "      <td>2349.937576</td>\n",
       "      <td>False</td>\n",
       "      <td>1.0</td>\n",
       "      <td>False</td>\n",
       "      <td>False</td>\n",
       "    </tr>\n",
       "    <tr>\n",
       "      <th>12</th>\n",
       "      <td>2017-04-01</td>\n",
       "      <td>RQM</td>\n",
       "      <td>1</td>\n",
       "      <td>15957</td>\n",
       "      <td>1309</td>\n",
       "      <td>3375</td>\n",
       "      <td>1545.166667</td>\n",
       "      <td>740.395758</td>\n",
       "      <td>2349.937576</td>\n",
       "      <td>False</td>\n",
       "      <td>-1.0</td>\n",
       "      <td>False</td>\n",
       "      <td>False</td>\n",
       "    </tr>\n",
       "    <tr>\n",
       "      <th>13</th>\n",
       "      <td>2017-05-01</td>\n",
       "      <td>RQM</td>\n",
       "      <td>1</td>\n",
       "      <td>17871</td>\n",
       "      <td>1960</td>\n",
       "      <td>3825</td>\n",
       "      <td>1545.166667</td>\n",
       "      <td>740.395758</td>\n",
       "      <td>2349.937576</td>\n",
       "      <td>False</td>\n",
       "      <td>1.0</td>\n",
       "      <td>False</td>\n",
       "      <td>False</td>\n",
       "    </tr>\n",
       "    <tr>\n",
       "      <th>14</th>\n",
       "      <td>2017-06-01</td>\n",
       "      <td>RQM</td>\n",
       "      <td>1</td>\n",
       "      <td>16675</td>\n",
       "      <td>1169</td>\n",
       "      <td>3542</td>\n",
       "      <td>1545.166667</td>\n",
       "      <td>740.395758</td>\n",
       "      <td>2349.937576</td>\n",
       "      <td>False</td>\n",
       "      <td>-1.0</td>\n",
       "      <td>False</td>\n",
       "      <td>False</td>\n",
       "    </tr>\n",
       "    <tr>\n",
       "      <th>15</th>\n",
       "      <td>2017-07-01</td>\n",
       "      <td>RQM</td>\n",
       "      <td>1</td>\n",
       "      <td>17265</td>\n",
       "      <td>1117</td>\n",
       "      <td>3610</td>\n",
       "      <td>1545.166667</td>\n",
       "      <td>740.395758</td>\n",
       "      <td>2349.937576</td>\n",
       "      <td>False</td>\n",
       "      <td>-1.0</td>\n",
       "      <td>False</td>\n",
       "      <td>False</td>\n",
       "    </tr>\n",
       "    <tr>\n",
       "      <th>16</th>\n",
       "      <td>2017-08-01</td>\n",
       "      <td>RQM</td>\n",
       "      <td>1</td>\n",
       "      <td>15872</td>\n",
       "      <td>1085</td>\n",
       "      <td>3529</td>\n",
       "      <td>1545.166667</td>\n",
       "      <td>740.395758</td>\n",
       "      <td>2349.937576</td>\n",
       "      <td>False</td>\n",
       "      <td>-1.0</td>\n",
       "      <td>False</td>\n",
       "      <td>False</td>\n",
       "    </tr>\n",
       "    <tr>\n",
       "      <th>17</th>\n",
       "      <td>2017-09-01</td>\n",
       "      <td>RQM</td>\n",
       "      <td>1</td>\n",
       "      <td>16776</td>\n",
       "      <td>1492</td>\n",
       "      <td>3680</td>\n",
       "      <td>1545.166667</td>\n",
       "      <td>740.395758</td>\n",
       "      <td>2349.937576</td>\n",
       "      <td>False</td>\n",
       "      <td>-1.0</td>\n",
       "      <td>False</td>\n",
       "      <td>False</td>\n",
       "    </tr>\n",
       "    <tr>\n",
       "      <th>18</th>\n",
       "      <td>2017-10-01</td>\n",
       "      <td>RQM</td>\n",
       "      <td>1</td>\n",
       "      <td>18024</td>\n",
       "      <td>1280</td>\n",
       "      <td>3829</td>\n",
       "      <td>1545.166667</td>\n",
       "      <td>740.395758</td>\n",
       "      <td>2349.937576</td>\n",
       "      <td>False</td>\n",
       "      <td>-1.0</td>\n",
       "      <td>False</td>\n",
       "      <td>False</td>\n",
       "    </tr>\n",
       "    <tr>\n",
       "      <th>19</th>\n",
       "      <td>2017-11-01</td>\n",
       "      <td>RQM</td>\n",
       "      <td>1</td>\n",
       "      <td>17891</td>\n",
       "      <td>1197</td>\n",
       "      <td>3618</td>\n",
       "      <td>1545.166667</td>\n",
       "      <td>740.395758</td>\n",
       "      <td>2349.937576</td>\n",
       "      <td>False</td>\n",
       "      <td>-1.0</td>\n",
       "      <td>False</td>\n",
       "      <td>False</td>\n",
       "    </tr>\n",
       "    <tr>\n",
       "      <th>20</th>\n",
       "      <td>2017-12-01</td>\n",
       "      <td>RQM</td>\n",
       "      <td>1</td>\n",
       "      <td>17695</td>\n",
       "      <td>1569</td>\n",
       "      <td>3729</td>\n",
       "      <td>1545.166667</td>\n",
       "      <td>740.395758</td>\n",
       "      <td>2349.937576</td>\n",
       "      <td>False</td>\n",
       "      <td>1.0</td>\n",
       "      <td>False</td>\n",
       "      <td>False</td>\n",
       "    </tr>\n",
       "    <tr>\n",
       "      <th>21</th>\n",
       "      <td>2018-01-01</td>\n",
       "      <td>RQM</td>\n",
       "      <td>1</td>\n",
       "      <td>17990</td>\n",
       "      <td>1406</td>\n",
       "      <td>3893</td>\n",
       "      <td>1545.166667</td>\n",
       "      <td>740.395758</td>\n",
       "      <td>2349.937576</td>\n",
       "      <td>False</td>\n",
       "      <td>-1.0</td>\n",
       "      <td>False</td>\n",
       "      <td>False</td>\n",
       "    </tr>\n",
       "    <tr>\n",
       "      <th>22</th>\n",
       "      <td>2018-02-01</td>\n",
       "      <td>RQM</td>\n",
       "      <td>1</td>\n",
       "      <td>16205</td>\n",
       "      <td>1328</td>\n",
       "      <td>3436</td>\n",
       "      <td>1545.166667</td>\n",
       "      <td>740.395758</td>\n",
       "      <td>2349.937576</td>\n",
       "      <td>False</td>\n",
       "      <td>-1.0</td>\n",
       "      <td>False</td>\n",
       "      <td>False</td>\n",
       "    </tr>\n",
       "    <tr>\n",
       "      <th>23</th>\n",
       "      <td>2018-03-01</td>\n",
       "      <td>RQM</td>\n",
       "      <td>1</td>\n",
       "      <td>18906</td>\n",
       "      <td>1564</td>\n",
       "      <td>3899</td>\n",
       "      <td>1545.166667</td>\n",
       "      <td>740.395758</td>\n",
       "      <td>2349.937576</td>\n",
       "      <td>False</td>\n",
       "      <td>1.0</td>\n",
       "      <td>False</td>\n",
       "      <td>False</td>\n",
       "    </tr>\n",
       "  </tbody>\n",
       "</table>\n",
       "</div>"
      ],
      "text/plain": [
       "       period org_code type  attendances  breaches  admissions         mean  \\\n",
       "0  2016-04-01      RQM    1        15154      1199        3415  1545.166667   \n",
       "1  2016-05-01      RQM    1        16705       929        3590  1545.166667   \n",
       "2  2016-06-01      RQM    1        16021       970        3398  1545.166667   \n",
       "3  2016-07-01      RQM    1        16761      1178        3321  1545.166667   \n",
       "4  2016-08-01      RQM    1        15084      1110        3198  1545.166667   \n",
       "5  2016-09-01      RQM    1        15918      1388        3260  1545.166667   \n",
       "6  2016-10-01      RQM    1        16564      2061        3563  1545.166667   \n",
       "7  2016-11-01      RQM    1        16478      1985        3399  1545.166667   \n",
       "8  2016-12-01      RQM    1        16931      2675        3671  1545.166667   \n",
       "9  2017-01-01      RQM    1        16920      3141        3339  1545.166667   \n",
       "10 2017-02-01      RQM    1        14482      1942        3188  1545.166667   \n",
       "11 2017-03-01      RQM    1        17414      2030        3597  1545.166667   \n",
       "12 2017-04-01      RQM    1        15957      1309        3375  1545.166667   \n",
       "13 2017-05-01      RQM    1        17871      1960        3825  1545.166667   \n",
       "14 2017-06-01      RQM    1        16675      1169        3542  1545.166667   \n",
       "15 2017-07-01      RQM    1        17265      1117        3610  1545.166667   \n",
       "16 2017-08-01      RQM    1        15872      1085        3529  1545.166667   \n",
       "17 2017-09-01      RQM    1        16776      1492        3680  1545.166667   \n",
       "18 2017-10-01      RQM    1        18024      1280        3829  1545.166667   \n",
       "19 2017-11-01      RQM    1        17891      1197        3618  1545.166667   \n",
       "20 2017-12-01      RQM    1        17695      1569        3729  1545.166667   \n",
       "21 2018-01-01      RQM    1        17990      1406        3893  1545.166667   \n",
       "22 2018-02-01      RQM    1        16205      1328        3436  1545.166667   \n",
       "23 2018-03-01      RQM    1        18906      1564        3899  1545.166667   \n",
       "\n",
       "           lpl          upl  outside_limits  relative_to_mean  \\\n",
       "0   740.395758  2349.937576           False              -1.0   \n",
       "1   740.395758  2349.937576           False              -1.0   \n",
       "2   740.395758  2349.937576           False              -1.0   \n",
       "3   740.395758  2349.937576           False              -1.0   \n",
       "4   740.395758  2349.937576           False              -1.0   \n",
       "5   740.395758  2349.937576           False              -1.0   \n",
       "6   740.395758  2349.937576           False               1.0   \n",
       "7   740.395758  2349.937576           False               1.0   \n",
       "8   740.395758  2349.937576            True               1.0   \n",
       "9   740.395758  2349.937576            True               1.0   \n",
       "10  740.395758  2349.937576           False               1.0   \n",
       "11  740.395758  2349.937576           False               1.0   \n",
       "12  740.395758  2349.937576           False              -1.0   \n",
       "13  740.395758  2349.937576           False               1.0   \n",
       "14  740.395758  2349.937576           False              -1.0   \n",
       "15  740.395758  2349.937576           False              -1.0   \n",
       "16  740.395758  2349.937576           False              -1.0   \n",
       "17  740.395758  2349.937576           False              -1.0   \n",
       "18  740.395758  2349.937576           False              -1.0   \n",
       "19  740.395758  2349.937576           False              -1.0   \n",
       "20  740.395758  2349.937576           False               1.0   \n",
       "21  740.395758  2349.937576           False              -1.0   \n",
       "22  740.395758  2349.937576           False              -1.0   \n",
       "23  740.395758  2349.937576           False               1.0   \n",
       "\n",
       "    close_to_limits  special_cause_flag  \n",
       "0             False               False  \n",
       "1              True                True  \n",
       "2              True                True  \n",
       "3             False               False  \n",
       "4             False               False  \n",
       "5             False               False  \n",
       "6             False               False  \n",
       "7             False               False  \n",
       "8             False                True  \n",
       "9             False                True  \n",
       "10            False               False  \n",
       "11            False               False  \n",
       "12            False               False  \n",
       "13            False               False  \n",
       "14            False               False  \n",
       "15            False               False  \n",
       "16            False               False  \n",
       "17            False               False  \n",
       "18            False               False  \n",
       "19            False               False  \n",
       "20            False               False  \n",
       "21            False               False  \n",
       "22            False               False  \n",
       "23            False               False  "
      ]
     },
     "execution_count": 3,
     "metadata": {},
     "output_type": "execute_result"
    }
   ],
   "source": [
    "from nhspy_plotthedots import pandas_spc_calculations\n",
    "\n",
    "spc = pandas_spc_calculations.pandas_spc_x_calc(sub_set, 'breaches')\n",
    "spc"
   ]
  },
  {
   "cell_type": "code",
   "execution_count": 4,
   "metadata": {},
   "outputs": [
    {
     "data": {
      "application/vnd.plotly.v1+json": {
       "config": {
        "displayModeBar": true,
        "displaylogo": false,
        "modeBarButtonsToRemove": [
         "zoom2d",
         "pan2d",
         "select2d",
         "lasso2d",
         "zoomIn2d",
         "zoomOut2d",
         "autoScale2d",
         "resetScale2d",
         "zoom",
         "pan",
         "select",
         "zoomIn",
         "zoomOut",
         "autoScale",
         "resetScale",
         "toggleSpikelines",
         "hoverClosestCartesian",
         "hoverCompareCartesian",
         "toImage"
        ],
        "plotlyServerURL": "https://plot.ly"
       },
       "data": [
        {
         "hovertemplate": "%{text}: %{y:.0f}<extra></extra>",
         "line": {
          "color": "rgb(22, 96, 167)",
          "dash": "solid",
          "width": 3
         },
         "marker": {
          "color": [
           "rgb(22, 96, 167)",
           "yellow",
           "yellow",
           "rgb(22, 96, 167)",
           "rgb(22, 96, 167)",
           "rgb(22, 96, 167)",
           "rgb(22, 96, 167)",
           "rgb(22, 96, 167)",
           "red",
           "red",
           "rgb(22, 96, 167)",
           "rgb(22, 96, 167)",
           "rgb(22, 96, 167)",
           "rgb(22, 96, 167)",
           "rgb(22, 96, 167)",
           "rgb(22, 96, 167)",
           "rgb(22, 96, 167)",
           "rgb(22, 96, 167)",
           "rgb(22, 96, 167)",
           "rgb(22, 96, 167)",
           "rgb(22, 96, 167)",
           "rgb(22, 96, 167)",
           "rgb(22, 96, 167)",
           "rgb(22, 96, 167)"
          ],
          "size": 10,
          "symbol": "circle"
         },
         "mode": "lines+markers",
         "name": "Performance",
         "text": [
          "Below mean",
          "Close to limit",
          "Close to limit",
          "Below mean",
          "Below mean",
          "Below mean",
          "Above mean",
          "Above mean",
          "Outside Limit",
          "Outside Limit",
          "Above mean",
          "Above mean",
          "Below mean",
          "Above mean",
          "Below mean",
          "Below mean",
          "Below mean",
          "Below mean",
          "Below mean",
          "Below mean",
          "Above mean",
          "Below mean",
          "Below mean",
          "Above mean"
         ],
         "type": "scatter",
         "x": [
          "2016-04-01T00:00:00",
          "2016-05-01T00:00:00",
          "2016-06-01T00:00:00",
          "2016-07-01T00:00:00",
          "2016-08-01T00:00:00",
          "2016-09-01T00:00:00",
          "2016-10-01T00:00:00",
          "2016-11-01T00:00:00",
          "2016-12-01T00:00:00",
          "2017-01-01T00:00:00",
          "2017-02-01T00:00:00",
          "2017-03-01T00:00:00",
          "2017-04-01T00:00:00",
          "2017-05-01T00:00:00",
          "2017-06-01T00:00:00",
          "2017-07-01T00:00:00",
          "2017-08-01T00:00:00",
          "2017-09-01T00:00:00",
          "2017-10-01T00:00:00",
          "2017-11-01T00:00:00",
          "2017-12-01T00:00:00",
          "2018-01-01T00:00:00",
          "2018-02-01T00:00:00",
          "2018-03-01T00:00:00"
         ],
         "y": [
          1199,
          929,
          970,
          1178,
          1110,
          1388,
          2061,
          1985,
          2675,
          3141,
          1942,
          2030,
          1309,
          1960,
          1169,
          1117,
          1085,
          1492,
          1280,
          1197,
          1569,
          1406,
          1328,
          1564
         ]
        },
        {
         "hovertemplate": "mean: %{y:.0f}<extra></extra>",
         "line": {
          "color": "rgba(174, 37, 115, 0.5)",
          "dash": "dash",
          "width": 2
         },
         "mode": "lines",
         "name": "Mean",
         "type": "scatter",
         "x": [
          "2016-04-01T00:00:00",
          "2016-05-01T00:00:00",
          "2016-06-01T00:00:00",
          "2016-07-01T00:00:00",
          "2016-08-01T00:00:00",
          "2016-09-01T00:00:00",
          "2016-10-01T00:00:00",
          "2016-11-01T00:00:00",
          "2016-12-01T00:00:00",
          "2017-01-01T00:00:00",
          "2017-02-01T00:00:00",
          "2017-03-01T00:00:00",
          "2017-04-01T00:00:00",
          "2017-05-01T00:00:00",
          "2017-06-01T00:00:00",
          "2017-07-01T00:00:00",
          "2017-08-01T00:00:00",
          "2017-09-01T00:00:00",
          "2017-10-01T00:00:00",
          "2017-11-01T00:00:00",
          "2017-12-01T00:00:00",
          "2018-01-01T00:00:00",
          "2018-02-01T00:00:00",
          "2018-03-01T00:00:00"
         ],
         "y": [
          1545.1666666666667,
          1545.1666666666667,
          1545.1666666666667,
          1545.1666666666667,
          1545.1666666666667,
          1545.1666666666667,
          1545.1666666666667,
          1545.1666666666667,
          1545.1666666666667,
          1545.1666666666667,
          1545.1666666666667,
          1545.1666666666667,
          1545.1666666666667,
          1545.1666666666667,
          1545.1666666666667,
          1545.1666666666667,
          1545.1666666666667,
          1545.1666666666667,
          1545.1666666666667,
          1545.1666666666667,
          1545.1666666666667,
          1545.1666666666667,
          1545.1666666666667,
          1545.1666666666667
         ]
        },
        {
         "hovertemplate": "lpl: %{y:.0f}<extra></extra>",
         "line": {
          "color": "rgba(174, 37, 115, 0.1)",
          "width": 0
         },
         "mode": "lines",
         "name": "lpl",
         "type": "scatter",
         "x": [
          "2016-04-01T00:00:00",
          "2016-05-01T00:00:00",
          "2016-06-01T00:00:00",
          "2016-07-01T00:00:00",
          "2016-08-01T00:00:00",
          "2016-09-01T00:00:00",
          "2016-10-01T00:00:00",
          "2016-11-01T00:00:00",
          "2016-12-01T00:00:00",
          "2017-01-01T00:00:00",
          "2017-02-01T00:00:00",
          "2017-03-01T00:00:00",
          "2017-04-01T00:00:00",
          "2017-05-01T00:00:00",
          "2017-06-01T00:00:00",
          "2017-07-01T00:00:00",
          "2017-08-01T00:00:00",
          "2017-09-01T00:00:00",
          "2017-10-01T00:00:00",
          "2017-11-01T00:00:00",
          "2017-12-01T00:00:00",
          "2018-01-01T00:00:00",
          "2018-02-01T00:00:00",
          "2018-03-01T00:00:00"
         ],
         "y": [
          740.3957575757576,
          740.3957575757576,
          740.3957575757576,
          740.3957575757576,
          740.3957575757576,
          740.3957575757576,
          740.3957575757576,
          740.3957575757576,
          740.3957575757576,
          740.3957575757576,
          740.3957575757576,
          740.3957575757576,
          740.3957575757576,
          740.3957575757576,
          740.3957575757576,
          740.3957575757576,
          740.3957575757576,
          740.3957575757576,
          740.3957575757576,
          740.3957575757576,
          740.3957575757576,
          740.3957575757576,
          740.3957575757576,
          740.3957575757576
         ]
        },
        {
         "fill": "tonexty",
         "fillcolor": "rgba(174, 37, 115, 0.1)",
         "hovertemplate": "upl: %{y:.0f}<extra></extra>",
         "line": {
          "color": "rgba(174, 37, 115, 0.1)",
          "width": 0
         },
         "mode": "lines",
         "name": "upl",
         "type": "scatter",
         "x": [
          "2016-04-01T00:00:00",
          "2016-05-01T00:00:00",
          "2016-06-01T00:00:00",
          "2016-07-01T00:00:00",
          "2016-08-01T00:00:00",
          "2016-09-01T00:00:00",
          "2016-10-01T00:00:00",
          "2016-11-01T00:00:00",
          "2016-12-01T00:00:00",
          "2017-01-01T00:00:00",
          "2017-02-01T00:00:00",
          "2017-03-01T00:00:00",
          "2017-04-01T00:00:00",
          "2017-05-01T00:00:00",
          "2017-06-01T00:00:00",
          "2017-07-01T00:00:00",
          "2017-08-01T00:00:00",
          "2017-09-01T00:00:00",
          "2017-10-01T00:00:00",
          "2017-11-01T00:00:00",
          "2017-12-01T00:00:00",
          "2018-01-01T00:00:00",
          "2018-02-01T00:00:00",
          "2018-03-01T00:00:00"
         ],
         "y": [
          2349.937575757576,
          2349.937575757576,
          2349.937575757576,
          2349.937575757576,
          2349.937575757576,
          2349.937575757576,
          2349.937575757576,
          2349.937575757576,
          2349.937575757576,
          2349.937575757576,
          2349.937575757576,
          2349.937575757576,
          2349.937575757576,
          2349.937575757576,
          2349.937575757576,
          2349.937575757576,
          2349.937575757576,
          2349.937575757576,
          2349.937575757576,
          2349.937575757576,
          2349.937575757576,
          2349.937575757576,
          2349.937575757576,
          2349.937575757576
         ]
        }
       ],
       "layout": {
        "font": {
         "size": 12
        },
        "hovermode": "x unified",
        "showlegend": false,
        "template": {
         "data": {
          "bar": [
           {
            "error_x": {
             "color": "#2a3f5f"
            },
            "error_y": {
             "color": "#2a3f5f"
            },
            "marker": {
             "line": {
              "color": "white",
              "width": 0.5
             },
             "pattern": {
              "fillmode": "overlay",
              "size": 10,
              "solidity": 0.2
             }
            },
            "type": "bar"
           }
          ],
          "barpolar": [
           {
            "marker": {
             "line": {
              "color": "white",
              "width": 0.5
             },
             "pattern": {
              "fillmode": "overlay",
              "size": 10,
              "solidity": 0.2
             }
            },
            "type": "barpolar"
           }
          ],
          "carpet": [
           {
            "aaxis": {
             "endlinecolor": "#2a3f5f",
             "gridcolor": "#C8D4E3",
             "linecolor": "#C8D4E3",
             "minorgridcolor": "#C8D4E3",
             "startlinecolor": "#2a3f5f"
            },
            "baxis": {
             "endlinecolor": "#2a3f5f",
             "gridcolor": "#C8D4E3",
             "linecolor": "#C8D4E3",
             "minorgridcolor": "#C8D4E3",
             "startlinecolor": "#2a3f5f"
            },
            "type": "carpet"
           }
          ],
          "choropleth": [
           {
            "colorbar": {
             "outlinewidth": 0,
             "ticks": ""
            },
            "type": "choropleth"
           }
          ],
          "contour": [
           {
            "colorbar": {
             "outlinewidth": 0,
             "ticks": ""
            },
            "colorscale": [
             [
              0,
              "#0d0887"
             ],
             [
              0.1111111111111111,
              "#46039f"
             ],
             [
              0.2222222222222222,
              "#7201a8"
             ],
             [
              0.3333333333333333,
              "#9c179e"
             ],
             [
              0.4444444444444444,
              "#bd3786"
             ],
             [
              0.5555555555555556,
              "#d8576b"
             ],
             [
              0.6666666666666666,
              "#ed7953"
             ],
             [
              0.7777777777777778,
              "#fb9f3a"
             ],
             [
              0.8888888888888888,
              "#fdca26"
             ],
             [
              1,
              "#f0f921"
             ]
            ],
            "type": "contour"
           }
          ],
          "contourcarpet": [
           {
            "colorbar": {
             "outlinewidth": 0,
             "ticks": ""
            },
            "type": "contourcarpet"
           }
          ],
          "heatmap": [
           {
            "colorbar": {
             "outlinewidth": 0,
             "ticks": ""
            },
            "colorscale": [
             [
              0,
              "#0d0887"
             ],
             [
              0.1111111111111111,
              "#46039f"
             ],
             [
              0.2222222222222222,
              "#7201a8"
             ],
             [
              0.3333333333333333,
              "#9c179e"
             ],
             [
              0.4444444444444444,
              "#bd3786"
             ],
             [
              0.5555555555555556,
              "#d8576b"
             ],
             [
              0.6666666666666666,
              "#ed7953"
             ],
             [
              0.7777777777777778,
              "#fb9f3a"
             ],
             [
              0.8888888888888888,
              "#fdca26"
             ],
             [
              1,
              "#f0f921"
             ]
            ],
            "type": "heatmap"
           }
          ],
          "heatmapgl": [
           {
            "colorbar": {
             "outlinewidth": 0,
             "ticks": ""
            },
            "colorscale": [
             [
              0,
              "#0d0887"
             ],
             [
              0.1111111111111111,
              "#46039f"
             ],
             [
              0.2222222222222222,
              "#7201a8"
             ],
             [
              0.3333333333333333,
              "#9c179e"
             ],
             [
              0.4444444444444444,
              "#bd3786"
             ],
             [
              0.5555555555555556,
              "#d8576b"
             ],
             [
              0.6666666666666666,
              "#ed7953"
             ],
             [
              0.7777777777777778,
              "#fb9f3a"
             ],
             [
              0.8888888888888888,
              "#fdca26"
             ],
             [
              1,
              "#f0f921"
             ]
            ],
            "type": "heatmapgl"
           }
          ],
          "histogram": [
           {
            "marker": {
             "pattern": {
              "fillmode": "overlay",
              "size": 10,
              "solidity": 0.2
             }
            },
            "type": "histogram"
           }
          ],
          "histogram2d": [
           {
            "colorbar": {
             "outlinewidth": 0,
             "ticks": ""
            },
            "colorscale": [
             [
              0,
              "#0d0887"
             ],
             [
              0.1111111111111111,
              "#46039f"
             ],
             [
              0.2222222222222222,
              "#7201a8"
             ],
             [
              0.3333333333333333,
              "#9c179e"
             ],
             [
              0.4444444444444444,
              "#bd3786"
             ],
             [
              0.5555555555555556,
              "#d8576b"
             ],
             [
              0.6666666666666666,
              "#ed7953"
             ],
             [
              0.7777777777777778,
              "#fb9f3a"
             ],
             [
              0.8888888888888888,
              "#fdca26"
             ],
             [
              1,
              "#f0f921"
             ]
            ],
            "type": "histogram2d"
           }
          ],
          "histogram2dcontour": [
           {
            "colorbar": {
             "outlinewidth": 0,
             "ticks": ""
            },
            "colorscale": [
             [
              0,
              "#0d0887"
             ],
             [
              0.1111111111111111,
              "#46039f"
             ],
             [
              0.2222222222222222,
              "#7201a8"
             ],
             [
              0.3333333333333333,
              "#9c179e"
             ],
             [
              0.4444444444444444,
              "#bd3786"
             ],
             [
              0.5555555555555556,
              "#d8576b"
             ],
             [
              0.6666666666666666,
              "#ed7953"
             ],
             [
              0.7777777777777778,
              "#fb9f3a"
             ],
             [
              0.8888888888888888,
              "#fdca26"
             ],
             [
              1,
              "#f0f921"
             ]
            ],
            "type": "histogram2dcontour"
           }
          ],
          "mesh3d": [
           {
            "colorbar": {
             "outlinewidth": 0,
             "ticks": ""
            },
            "type": "mesh3d"
           }
          ],
          "parcoords": [
           {
            "line": {
             "colorbar": {
              "outlinewidth": 0,
              "ticks": ""
             }
            },
            "type": "parcoords"
           }
          ],
          "pie": [
           {
            "automargin": true,
            "type": "pie"
           }
          ],
          "scatter": [
           {
            "fillpattern": {
             "fillmode": "overlay",
             "size": 10,
             "solidity": 0.2
            },
            "type": "scatter"
           }
          ],
          "scatter3d": [
           {
            "line": {
             "colorbar": {
              "outlinewidth": 0,
              "ticks": ""
             }
            },
            "marker": {
             "colorbar": {
              "outlinewidth": 0,
              "ticks": ""
             }
            },
            "type": "scatter3d"
           }
          ],
          "scattercarpet": [
           {
            "marker": {
             "colorbar": {
              "outlinewidth": 0,
              "ticks": ""
             }
            },
            "type": "scattercarpet"
           }
          ],
          "scattergeo": [
           {
            "marker": {
             "colorbar": {
              "outlinewidth": 0,
              "ticks": ""
             }
            },
            "type": "scattergeo"
           }
          ],
          "scattergl": [
           {
            "marker": {
             "colorbar": {
              "outlinewidth": 0,
              "ticks": ""
             }
            },
            "type": "scattergl"
           }
          ],
          "scattermapbox": [
           {
            "marker": {
             "colorbar": {
              "outlinewidth": 0,
              "ticks": ""
             }
            },
            "type": "scattermapbox"
           }
          ],
          "scatterpolar": [
           {
            "marker": {
             "colorbar": {
              "outlinewidth": 0,
              "ticks": ""
             }
            },
            "type": "scatterpolar"
           }
          ],
          "scatterpolargl": [
           {
            "marker": {
             "colorbar": {
              "outlinewidth": 0,
              "ticks": ""
             }
            },
            "type": "scatterpolargl"
           }
          ],
          "scatterternary": [
           {
            "marker": {
             "colorbar": {
              "outlinewidth": 0,
              "ticks": ""
             }
            },
            "type": "scatterternary"
           }
          ],
          "surface": [
           {
            "colorbar": {
             "outlinewidth": 0,
             "ticks": ""
            },
            "colorscale": [
             [
              0,
              "#0d0887"
             ],
             [
              0.1111111111111111,
              "#46039f"
             ],
             [
              0.2222222222222222,
              "#7201a8"
             ],
             [
              0.3333333333333333,
              "#9c179e"
             ],
             [
              0.4444444444444444,
              "#bd3786"
             ],
             [
              0.5555555555555556,
              "#d8576b"
             ],
             [
              0.6666666666666666,
              "#ed7953"
             ],
             [
              0.7777777777777778,
              "#fb9f3a"
             ],
             [
              0.8888888888888888,
              "#fdca26"
             ],
             [
              1,
              "#f0f921"
             ]
            ],
            "type": "surface"
           }
          ],
          "table": [
           {
            "cells": {
             "fill": {
              "color": "#EBF0F8"
             },
             "line": {
              "color": "white"
             }
            },
            "header": {
             "fill": {
              "color": "#C8D4E3"
             },
             "line": {
              "color": "white"
             }
            },
            "type": "table"
           }
          ]
         },
         "layout": {
          "annotationdefaults": {
           "arrowcolor": "#2a3f5f",
           "arrowhead": 0,
           "arrowwidth": 1
          },
          "autotypenumbers": "strict",
          "coloraxis": {
           "colorbar": {
            "outlinewidth": 0,
            "ticks": ""
           }
          },
          "colorscale": {
           "diverging": [
            [
             0,
             "#8e0152"
            ],
            [
             0.1,
             "#c51b7d"
            ],
            [
             0.2,
             "#de77ae"
            ],
            [
             0.3,
             "#f1b6da"
            ],
            [
             0.4,
             "#fde0ef"
            ],
            [
             0.5,
             "#f7f7f7"
            ],
            [
             0.6,
             "#e6f5d0"
            ],
            [
             0.7,
             "#b8e186"
            ],
            [
             0.8,
             "#7fbc41"
            ],
            [
             0.9,
             "#4d9221"
            ],
            [
             1,
             "#276419"
            ]
           ],
           "sequential": [
            [
             0,
             "#0d0887"
            ],
            [
             0.1111111111111111,
             "#46039f"
            ],
            [
             0.2222222222222222,
             "#7201a8"
            ],
            [
             0.3333333333333333,
             "#9c179e"
            ],
            [
             0.4444444444444444,
             "#bd3786"
            ],
            [
             0.5555555555555556,
             "#d8576b"
            ],
            [
             0.6666666666666666,
             "#ed7953"
            ],
            [
             0.7777777777777778,
             "#fb9f3a"
            ],
            [
             0.8888888888888888,
             "#fdca26"
            ],
            [
             1,
             "#f0f921"
            ]
           ],
           "sequentialminus": [
            [
             0,
             "#0d0887"
            ],
            [
             0.1111111111111111,
             "#46039f"
            ],
            [
             0.2222222222222222,
             "#7201a8"
            ],
            [
             0.3333333333333333,
             "#9c179e"
            ],
            [
             0.4444444444444444,
             "#bd3786"
            ],
            [
             0.5555555555555556,
             "#d8576b"
            ],
            [
             0.6666666666666666,
             "#ed7953"
            ],
            [
             0.7777777777777778,
             "#fb9f3a"
            ],
            [
             0.8888888888888888,
             "#fdca26"
            ],
            [
             1,
             "#f0f921"
            ]
           ]
          },
          "colorway": [
           "#636efa",
           "#EF553B",
           "#00cc96",
           "#ab63fa",
           "#FFA15A",
           "#19d3f3",
           "#FF6692",
           "#B6E880",
           "#FF97FF",
           "#FECB52"
          ],
          "font": {
           "color": "#2a3f5f"
          },
          "geo": {
           "bgcolor": "white",
           "lakecolor": "white",
           "landcolor": "white",
           "showlakes": true,
           "showland": true,
           "subunitcolor": "#C8D4E3"
          },
          "hoverlabel": {
           "align": "left"
          },
          "hovermode": "closest",
          "mapbox": {
           "style": "light"
          },
          "paper_bgcolor": "white",
          "plot_bgcolor": "white",
          "polar": {
           "angularaxis": {
            "gridcolor": "#EBF0F8",
            "linecolor": "#EBF0F8",
            "ticks": ""
           },
           "bgcolor": "white",
           "radialaxis": {
            "gridcolor": "#EBF0F8",
            "linecolor": "#EBF0F8",
            "ticks": ""
           }
          },
          "scene": {
           "xaxis": {
            "backgroundcolor": "white",
            "gridcolor": "#DFE8F3",
            "gridwidth": 2,
            "linecolor": "#EBF0F8",
            "showbackground": true,
            "ticks": "",
            "zerolinecolor": "#EBF0F8"
           },
           "yaxis": {
            "backgroundcolor": "white",
            "gridcolor": "#DFE8F3",
            "gridwidth": 2,
            "linecolor": "#EBF0F8",
            "showbackground": true,
            "ticks": "",
            "zerolinecolor": "#EBF0F8"
           },
           "zaxis": {
            "backgroundcolor": "white",
            "gridcolor": "#DFE8F3",
            "gridwidth": 2,
            "linecolor": "#EBF0F8",
            "showbackground": true,
            "ticks": "",
            "zerolinecolor": "#EBF0F8"
           }
          },
          "shapedefaults": {
           "line": {
            "color": "#2a3f5f"
           }
          },
          "ternary": {
           "aaxis": {
            "gridcolor": "#DFE8F3",
            "linecolor": "#A2B1C6",
            "ticks": ""
           },
           "baxis": {
            "gridcolor": "#DFE8F3",
            "linecolor": "#A2B1C6",
            "ticks": ""
           },
           "bgcolor": "white",
           "caxis": {
            "gridcolor": "#DFE8F3",
            "linecolor": "#A2B1C6",
            "ticks": ""
           }
          },
          "title": {
           "x": 0.05
          },
          "xaxis": {
           "automargin": true,
           "gridcolor": "#EBF0F8",
           "linecolor": "#EBF0F8",
           "ticks": "",
           "title": {
            "standoff": 15
           },
           "zerolinecolor": "#EBF0F8",
           "zerolinewidth": 2
          },
          "yaxis": {
           "automargin": true,
           "gridcolor": "#EBF0F8",
           "linecolor": "#EBF0F8",
           "ticks": "",
           "title": {
            "standoff": 15
           },
           "zerolinecolor": "#EBF0F8",
           "zerolinewidth": 2
          }
         }
        },
        "title": {
         "text": "Chelsea & Westminster Hospital NHS Foundation Trust (RQM)"
        },
        "xaxis": {
         "range": [
          "2016-03-27T00:00:00",
          "2018-03-06T00:00:00"
         ],
         "title": {
          "text": "Month of attendance"
         }
        },
        "yaxis": {
         "range": [
          0,
          3455.1
         ],
         "title": {
          "text": "Number of 4-Hour Target Breaches"
         }
        }
       }
      }
     },
     "metadata": {},
     "output_type": "display_data"
    }
   ],
   "source": [
    "from nhspy_plotthedots import plotly_spc_chart\n",
    "\n",
    "plotly_spc_chart.plotly_spc_chart(spc, 'breaches', 'period', plot_title = 'Chelsea & Westminster Hospital NHS Foundation Trust (RQM)', x_lab = 'Month of attendance', y_lab = 'Number of 4-Hour Target Breaches')"
   ]
  }
 ],
 "metadata": {
  "kernelspec": {
   "display_name": "Python 3",
   "language": "python",
   "name": "python3"
  },
  "language_info": {
   "codemirror_mode": {
    "name": "ipython",
    "version": 3
   },
   "file_extension": ".py",
   "mimetype": "text/x-python",
   "name": "python",
   "nbconvert_exporter": "python",
   "pygments_lexer": "ipython3",
   "version": "3.10.9"
  },
  "orig_nbformat": 4,
  "vscode": {
   "interpreter": {
    "hash": "b0fa6594d8f4cbf19f97940f81e996739fb7646882a419484c72d19e05852a7e"
   }
  }
 },
 "nbformat": 4,
 "nbformat_minor": 2
}
